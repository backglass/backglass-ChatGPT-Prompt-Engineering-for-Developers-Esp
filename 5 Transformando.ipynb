{
 "cells": [
  {
   "attachments": {},
   "cell_type": "markdown",
   "metadata": {},
   "source": [
    "# Trasnformando\n",
    "En este cuaderno exploraremos cómo utilizar los LLM(Large Language Models) para transformar texto, como la transformación de textos, como la traducción de idiomas, la correción ortográfica y gramatical, el ajuste del tono y la conversión de formatos.\n",
    "\n",
    "## Setup"
   ]
  },
  {
   "cell_type": "code",
   "execution_count": 32,
   "metadata": {},
   "outputs": [],
   "source": [
    "import openai\n",
    "import textwrap # Para quebrar o texto em lineas\n",
    "openai.api_key = \"TU API KEY\"\n",
    "model = \"gpt-3.5-turbo\"\n"
   ]
  },
  {
   "cell_type": "code",
   "execution_count": 2,
   "metadata": {},
   "outputs": [],
   "source": [
    "def get_completion(prompt, model):\n",
    "    messages = [{\"role\":\"user\",\"content\":prompt}]\n",
    "    response = openai.ChatCompletion.create(\n",
    "        model=model,\n",
    "        messages=messages,\n",
    "        temperature=0\n",
    "    )\n",
    "    return response.choices[0].message[\"content\"]"
   ]
  },
  {
   "attachments": {},
   "cell_type": "markdown",
   "metadata": {},
   "source": [
    "## Traducción\n",
    "ChatGPT se entrena con fuentes de muchos idiomas. Esto le da al modelo la capacidad de hacer traducciones.  \n",
    "Aquí tienes algunos ejemplos de cómo utilizar esta capacidad."
   ]
  },
  {
   "cell_type": "code",
   "execution_count": 5,
   "metadata": {},
   "outputs": [
    {
     "name": "stdout",
     "output_type": "stream",
     "text": [
      "Hola, me gustaría ordenar una licuadora.\n"
     ]
    }
   ],
   "source": [
    "# prompt sencillo para traducir texto\n",
    "\n",
    "prompt = \"\"\" \n",
    "Traduce el siguiente texto ingles al español: \\ \n",
    "```Hi, I would like to order a blender```\n",
    "\"\"\"\n",
    "response = get_completion(prompt, model)\n",
    "texto_largo = textwrap.wrap(response, width=100)\n",
    "\n",
    "for linea in texto_largo:\n",
    "    print(linea)"
   ]
  },
  {
   "cell_type": "code",
   "execution_count": 6,
   "metadata": {},
   "outputs": [
    {
     "name": "stdout",
     "output_type": "stream",
     "text": [
      "El idioma es francés. La frase significa \"¿Cuánto cuesta la lámpara de pie?\" en español.\n"
     ]
    }
   ],
   "source": [
    "# prompt para adivinar el idioma utilizado\n",
    "\n",
    "prompt = \"\"\"\n",
    "Dime que idioma es el siguiente:\n",
    "\n",
    "```Combien coûte le lampadaire?```\n",
    "\n",
    "\"\"\"\n",
    "response = get_completion(prompt, model)\n",
    "texto_largo = textwrap.wrap(response, width=100)\n",
    "\n",
    "for linea in texto_largo:\n",
    "    print(linea)"
   ]
  },
  {
   "cell_type": "code",
   "execution_count": 7,
   "metadata": {},
   "outputs": [
    {
     "name": "stdout",
     "output_type": "stream",
     "text": [
      "Español: Quiero ordenar una pelota de baloncesto. Francés: Je veux commander un ballon de basket.\n",
      "Inglés pirata: Arrr, I be wantin' to order a basketball.\n"
     ]
    }
   ],
   "source": [
    "# Múltiples traducciones\n",
    "\n",
    "prompt = \"\"\"\n",
    "Traduce el siguiente texto al español y frances \n",
    "y inlges pirata \\\n",
    "    \n",
    "    ```I want to order a basketball ```\n",
    "\"\"\"\n",
    "response = get_completion(prompt, model)\n",
    "texto_largo = textwrap.wrap(response, width=100)\n",
    "\n",
    "for linea in texto_largo:\n",
    "    print(linea)"
   ]
  },
  {
   "cell_type": "code",
   "execution_count": 8,
   "metadata": {},
   "outputs": [
    {
     "name": "stdout",
     "output_type": "stream",
     "text": [
      "Formal: ¿Le gustaría ordenar una almohada? Informal: ¿Quieres pedir una almohada?\n"
     ]
    }
   ],
   "source": [
    "# Traducir texto de manera formal y informal\n",
    "\n",
    "prompt = \"\"\"\n",
    "Traduce el siguiente texto al español de manera formal y informal:\n",
    "\n",
    "'Would you like to order a pillow?'\n",
    "\"\"\"\n",
    "\n",
    "response = get_completion(prompt, model)\n",
    "texto_largo = textwrap.wrap(response, width=100)\n",
    "\n",
    "for linea in texto_largo:\n",
    "    print(linea)\n"
   ]
  },
  {
   "attachments": {},
   "cell_type": "markdown",
   "metadata": {},
   "source": [
    "## Traductir universal\n",
    "\n",
    "Imagina que eres responsable de TI en una gran empresa multinacional de comercio electrónico. Los usuarios le envían mensajes con problemas informáticos en sus lenguas maternas. Tus empleados son de todo el mundo y sólo hablan su lengua materna. Necesita un traductor universal."
   ]
  },
  {
   "cell_type": "code",
   "execution_count": 9,
   "metadata": {},
   "outputs": [],
   "source": [
    "# Para el siguiente ejemplo usaremos una lista, con las frases en lengua materna de los clientes\n",
    "user_messages = [\n",
    "  \"La performance du système est plus lente que d'habitude.\",  # System performance is slower than normal         \n",
    "  \"Mi monitor tiene píxeles que no se iluminan.\",              # My monitor has pixels that are not lighting\n",
    "  \"Il mio mouse non funziona\",                                 # My mouse is not working\n",
    "  \"Mój klawisz Ctrl jest zepsuty\",                             # My keyboard has a broken control key\n",
    "  \"我的屏幕在闪烁\"                                               # My screen is flashing\n",
    "] "
   ]
  },
  {
   "cell_type": "code",
   "execution_count": 13,
   "metadata": {},
   "outputs": [
    {
     "name": "stdout",
     "output_type": "stream",
     "text": [
      "Mensaje original: (Francés.): La performance du système est plus lente que d'habitude.\n",
      "Inglés: The system performance is slower than usual.\n",
      "Koreano: 시스템 성능이 평소보다 느립니다. \n",
      "\n",
      "Mensaje original: (Español.): Mi monitor tiene píxeles que no se iluminan.\n",
      "Inglés: My monitor has pixels that don't light up.\n",
      "Koreano: 내 모니터에는 불이 켜지지 않는 픽셀이 있습니다. \n",
      "\n",
      "Mensaje original: (Italiano.): Il mio mouse non funziona\n",
      "Inglés: My mouse is not working.\n",
      "Koreano: 내 마우스가 작동하지 않습니다. \n",
      "\n",
      "Mensaje original: (Polaco.): Mój klawisz Ctrl jest zepsuty\n",
      "Inglés: My Ctrl key is broken\n",
      "Koreano: 제 Ctrl 키가 고장 났어요 \n",
      "\n",
      "Mensaje original: (Chino.): 我的屏幕在闪烁\n",
      "Inglés: My screen is flickering.\n",
      "Koreano: 내 화면이 깜빡입니다. \n",
      "\n"
     ]
    }
   ],
   "source": [
    "\n",
    "for issue in user_messages:\n",
    "    prompt = f\"Dime en sólo una palabra que idioma es ```{issue}```\"\n",
    "    language = get_completion(prompt, model)\n",
    "    print(f\"Mensaje original: ({language}): {issue}\")\n",
    "    \n",
    "    prompt = f\"Traduce el siguiente texto as ingles y koreano: ```{issue}```\"\n",
    "    response = get_completion(prompt, model)\n",
    "    print(response,\"\\n\")\n",
    "    "
   ]
  },
  {
   "attachments": {},
   "cell_type": "markdown",
   "metadata": {},
   "source": [
    "## Diferentes tonos del texto\n",
    "El texto puede variar en función del público al que se diriger. ChatGPT puede producir diferentes tonos"
   ]
  },
  {
   "cell_type": "code",
   "execution_count": 25,
   "metadata": {},
   "outputs": [
    {
     "name": "stdout",
     "output_type": "stream",
     "text": [
      "Estimado/a cliente,  Es un placer presentarle las especificaciones de nuestra lámpara de pie.\n",
      "Esperamos que sean de su interés y le ayuden a tomar una decisión informada sobre su compra.\n",
      "Atentamente,  [Nombre de la empresa]\n"
     ]
    }
   ],
   "source": [
    "# De tono informal a un tono comercial mas formal\n",
    "\n",
    "prompt = \"\"\"\n",
    "Traduce el siguiente texto del argot de la calle a una carta comercial:\n",
    "'Ey! Tio que pasa, mira las especificaciones de esta lámpara de pie.'\n",
    "\n",
    "\"\"\"\n",
    "\n",
    "response = get_completion(prompt, model)\n",
    "texto_largo = textwrap.wrap(response, width=100)\n",
    "\n",
    "for linea in texto_largo:\n",
    "    print(linea)"
   ]
  },
  {
   "attachments": {},
   "cell_type": "markdown",
   "metadata": {},
   "source": [
    "## Conversión de formatos\n",
    "ChatGPT puede convertir entre diferentes formatos, El mensaje debe describir el formato de entrada y el de salida"
   ]
  },
  {
   "cell_type": "code",
   "execution_count": 20,
   "metadata": {},
   "outputs": [],
   "source": []
  },
  {
   "cell_type": "code",
   "execution_count": 38,
   "metadata": {},
   "outputs": [
    {
     "name": "stdout",
     "output_type": "stream",
     "text": [
      "<table>\n",
      "  <caption>Restaurant Employees</caption>\n",
      "  <thead>\n",
      "    <tr>\n",
      "      <th>Name</th>\n",
      "      <th>Email</th>\n",
      "    </tr>\n",
      "  </thead>\n",
      "  <tbody>\n",
      "    <tr>\n",
      "      <td>Shyam</td>\n",
      "      <td>shyamjaiswal@gmail.com</td>\n",
      "    </tr>\n",
      "    <tr>\n",
      "      <td>Bob</td>\n",
      "      <td>bob32@gmail.com</td>\n",
      "    </tr>\n",
      "    <tr>\n",
      "      <td>Jai</td>\n",
      "      <td>jai87@gmail.com</td>\n",
      "    </tr>\n",
      "  </tbody>\n",
      "</table>\n"
     ]
    }
   ],
   "source": [
    "# Convierte el diccionario en una tabla HTML\n",
    "# He dejado el prompt en ingles porque en español no generaba la tabla\n",
    "\n",
    "data_json = { \"resturant employees\" :[ \n",
    "    {\"name\":\"Shyam\", \"email\":\"shyamjaiswal@gmail.com\"},\n",
    "    {\"name\":\"Bob\", \"email\":\"bob32@gmail.com\"},\n",
    "    {\"name\":\"Jai\", \"email\":\"jai87@gmail.com\"}\n",
    "]}\n",
    "\n",
    "prompt = f\"\"\"\n",
    "Translate the following python dictionary from JSON to an HTML \\\n",
    "table with column headers and title: {data_json}\n",
    "\"\"\"\n",
    "response = get_completion(prompt, model)\n",
    "print(response)"
   ]
  },
  {
   "cell_type": "code",
   "execution_count": 39,
   "metadata": {},
   "outputs": [
    {
     "data": {
      "text/html": [
       "<table>\n",
       "  <caption>Restaurant Employees</caption>\n",
       "  <thead>\n",
       "    <tr>\n",
       "      <th>Name</th>\n",
       "      <th>Email</th>\n",
       "    </tr>\n",
       "  </thead>\n",
       "  <tbody>\n",
       "    <tr>\n",
       "      <td>Shyam</td>\n",
       "      <td>shyamjaiswal@gmail.com</td>\n",
       "    </tr>\n",
       "    <tr>\n",
       "      <td>Bob</td>\n",
       "      <td>bob32@gmail.com</td>\n",
       "    </tr>\n",
       "    <tr>\n",
       "      <td>Jai</td>\n",
       "      <td>jai87@gmail.com</td>\n",
       "    </tr>\n",
       "  </tbody>\n",
       "</table>"
      ],
      "text/plain": [
       "<IPython.core.display.HTML object>"
      ]
     },
     "metadata": {},
     "output_type": "display_data"
    }
   ],
   "source": [
    "from IPython.display import display, Markdown, Latex, HTML, JSON\n",
    "display(HTML(response))"
   ]
  },
  {
   "attachments": {},
   "cell_type": "markdown",
   "metadata": {},
   "source": [
    "## Revisión ortográfica/gramatical\n",
    "\n",
    "He aquí algunos ejemplos de problemas gramaticales y ortográficos comunes y la respuesta del LLM. \n",
    "\n",
    "Para indicar al LLM que quieres que corrija tu texto, indícale al modelo que \"corrija\" o \"corrija y corrija\"."
   ]
  },
  {
   "cell_type": "code",
   "execution_count": 40,
   "metadata": {},
   "outputs": [],
   "source": [
    "# El siguiente prompt será en ingles ya que las frases mal escritas estan en ingles\n",
    "\n",
    "text = [ \n",
    "  \"The girl with the black and white puppies have a ball.\",  # The girl has a ball.\n",
    "  \"Yolanda has her notebook.\", # ok\n",
    "  \"Its going to be a long day. Does the car need it’s oil changed?\",  # Homonyms\n",
    "  \"Their goes my freedom. There going to bring they’re suitcases.\",  # Homonyms\n",
    "  \"Your going to need you’re notebook.\",  # Homonyms\n",
    "  \"That medicine effects my ability to sleep. Have you heard of the butterfly affect?\", # Homonyms\n",
    "  \"This phrase is to cherck chatGPT for speling abilitty\"  # spelling\n",
    "]\n"
   ]
  },
  {
   "cell_type": "code",
   "execution_count": 43,
   "metadata": {},
   "outputs": [
    {
     "name": "stdout",
     "output_type": "stream",
     "text": [
      "The girl with the black and white puppies has a ball.\n",
      "No errors.\n",
      "It's going to be a long day. Does the car need its oil changed?\n",
      "There goes my freedom. They're going to bring their suitcases.\n",
      "You're going to need your notebook.\n",
      "That medicine affects my ability to sleep. Have you heard of the butterfly effect?\n",
      "This phrase is to check ChatGPT for spelling ability.\n"
     ]
    }
   ],
   "source": [
    "# Primera parte: corregir la ortografía\n",
    "\n",
    "for frase in text:\n",
    "    prompt = f\"\"\" Proofread and correct the following text \n",
    "                  and rewtite the correct version. If you don't find and errors, just say\n",
    "                  \"No errors\". Don't use punctuation around the text:\n",
    "                  ```{frase}```\n",
    "                  \"\"\"\n",
    "    response = get_completion(prompt, model)\n",
    "    print(response)\n",
    "    "
   ]
  },
  {
   "cell_type": "code",
   "execution_count": 46,
   "metadata": {},
   "outputs": [
    {
     "name": "stdout",
     "output_type": "stream",
     "text": [
      "I got this for my daughter's birthday because she keeps taking mine from my room. Yes, adults also\n",
      "like pandas too. She takes it everywhere with her, and it's super soft and cute. However, one of the\n",
      "ears is a bit lower than the other, and I don't think that was designed to be asymmetrical.\n",
      "Additionally, it's a bit small for what I paid for it. I think there might be other options that are\n",
      "bigger for the same price. On the positive side, it arrived a day earlier than expected, so I got to\n",
      "play with it myself before I gave it to my daughter.\n"
     ]
    }
   ],
   "source": [
    "# Segunda parte: corregir la gramática y comparar la frase original con la corregida\n",
    "text = f\"\"\"\n",
    "Got this for my daughter for her birthday cuz she keeps taking \\\n",
    "mine from my room.  Yes, adults also like pandas too.  She takes \\\n",
    "it everywhere with her, and it's super soft and cute.  One of the \\\n",
    "ears is a bit lower than the other, and I don't think that was \\\n",
    "designed to be asymmetrical. It's a bit small for what I paid for it \\\n",
    "though. I think there might be other options that are bigger for \\\n",
    "the same price.  It arrived a day earlier than expected, so I got \\\n",
    "to play with it myself before I gave it to my daughter.\n",
    "\"\"\"\n",
    "response = get_completion(prompt, model)\n",
    "texto_largo = textwrap.wrap(response, width=100)\n",
    "\n",
    "for linea in texto_largo:\n",
    "    print(linea)"
   ]
  },
  {
   "cell_type": "code",
   "execution_count": 48,
   "metadata": {},
   "outputs": [
    {
     "data": {
      "text/markdown": [
       "<span style=\"color:red;font-weight:700;text-decoration:line-through;\">Got </span><span style=\"color:red;font-weight:700;\">I got </span>this for my <span style=\"color:red;font-weight:700;text-decoration:line-through;\">daughter for her </span><span style=\"color:red;font-weight:700;\">daughter's </span>birthday <span style=\"color:red;font-weight:700;text-decoration:line-through;\">cuz </span><span style=\"color:red;font-weight:700;\">because </span>she keeps taking mine from my <span style=\"color:red;font-weight:700;text-decoration:line-through;\">room.  </span><span style=\"color:red;font-weight:700;\">room. </span>Yes, adults also like pandas <span style=\"color:red;font-weight:700;text-decoration:line-through;\">too.  </span><span style=\"color:red;font-weight:700;\">too. </span>She takes it everywhere with her, and it's super soft and <span style=\"color:red;font-weight:700;text-decoration:line-through;\">cute.  One </span><span style=\"color:red;font-weight:700;\">cute. However, one </span>of the ears is a bit lower than the other, and I don't think that was designed to be asymmetrical. <span style=\"color:red;font-weight:700;text-decoration:line-through;\">It's </span><span style=\"color:red;font-weight:700;\">Additionally, it's </span>a bit small for what I paid for <span style=\"color:red;font-weight:700;text-decoration:line-through;\">it though. </span><span style=\"color:red;font-weight:700;\">it. </span>I think there might be other options that are bigger for the same <span style=\"color:red;font-weight:700;text-decoration:line-through;\">price.  It </span><span style=\"color:red;font-weight:700;\">price. On the positive side, it </span>arrived a day earlier than expected, so I got to play with it myself before I gave it to my daughter."
      ],
      "text/plain": [
       "<IPython.core.display.Markdown object>"
      ]
     },
     "metadata": {},
     "output_type": "display_data"
    }
   ],
   "source": [
    "# Código para ver las diferencias entre las frases\n",
    "\n",
    "from redlines import Redlines\n",
    "\n",
    "diff = Redlines(text, response)\n",
    "display(Markdown(diff.output_markdown))\n"
   ]
  },
  {
   "cell_type": "code",
   "execution_count": 51,
   "metadata": {},
   "outputs": [
    {
     "data": {
      "text/markdown": [
       "Title: A Soft and Cute Panda Plush Toy for All Ages\n",
       "\n",
       "Introduction:\n",
       "As a parent, finding the perfect gift for your child's birthday can be a daunting task. However, I stumbled upon a soft and cute panda plush toy that not only made my daughter happy but also brought joy to me as an adult. In this review, I will share my experience with this product and provide an honest assessment of its features.\n",
       "\n",
       "Product Description:\n",
       "The panda plush toy is made of high-quality materials that make it super soft and cuddly. Its cute design is perfect for children and adults alike, making it a versatile gift option. The toy is small enough to carry around, making it an ideal companion for your child on their adventures.\n",
       "\n",
       "Pros:\n",
       "The panda plush toy is incredibly soft and cute, making it an excellent gift for children and adults. Its small size makes it easy to carry around, and its design is perfect for snuggling. The toy arrived a day earlier than expected, which was a pleasant surprise.\n",
       "\n",
       "Cons:\n",
       "One of the ears is a bit lower than the other, which makes the toy asymmetrical. Additionally, the toy is a bit small for its price, and there might be other options that are bigger for the same price.\n",
       "\n",
       "Conclusion:\n",
       "Overall, the panda plush toy is an excellent gift option for children and adults who love cute and cuddly toys. Despite its small size and asymmetrical design, the toy's softness and cuteness make up for its shortcomings. I highly recommend this product to anyone looking for a versatile and adorable gift option."
      ],
      "text/plain": [
       "<IPython.core.display.Markdown object>"
      ]
     },
     "metadata": {},
     "output_type": "display_data"
    },
    {
     "ename": "",
     "evalue": "",
     "output_type": "error",
     "traceback": [
      "\u001b[1;31mEl Kernel se bloqueó al ejecutar código en la celda actual o en una celda anterior. Revise el código de las celdas para identificar una posible causa del error. Haga clic <a href='https://aka.ms/vscodeJupyterKernelCrash'>aquí</a> para obtener más información. Vea el [registro] de Jupyter (command:jupyter.viewOutput) para obtener más detalles."
     ]
    }
   ],
   "source": [
    "# # Tercera parte: corregir la gramática y comparar la frase original con la corregida y cambiar el tono\n",
    "# prompt = f\"\"\"\n",
    "# Revise y corrija esta reseña. Hazla más convincente.\n",
    "# Asegúrate de que siga la guia APA y se dirige a un lector avanzado.\n",
    "# publiquelo en formato markdown.\n",
    "# texto: ```{text}```\t\n",
    "# \"\"\"\n",
    "# response = get_completion(prompt, model)\n",
    "# display(Markdown(response))\n",
    "\n",
    "prompt = f\"\"\"\n",
    "proofread and correct this review. Make it more compelling. \n",
    "Ensure it follows APA style guide and targets an advanced reader. \n",
    "Output in markdown format.\n",
    "Text: ```{text}```\n",
    "\"\"\"\n",
    "response = get_completion(prompt, model)\n",
    "display(Markdown(response))"
   ]
  }
 ],
 "metadata": {
  "kernelspec": {
   "display_name": "env",
   "language": "python",
   "name": "python3"
  },
  "language_info": {
   "codemirror_mode": {
    "name": "ipython",
    "version": 3
   },
   "file_extension": ".py",
   "mimetype": "text/x-python",
   "name": "python",
   "nbconvert_exporter": "python",
   "pygments_lexer": "ipython3",
   "version": "3.11.1"
  },
  "orig_nbformat": 4
 },
 "nbformat": 4,
 "nbformat_minor": 2
}
