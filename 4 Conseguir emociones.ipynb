{
 "cells": [
  {
   "attachments": {},
   "cell_type": "markdown",
   "metadata": {},
   "source": [
    "# Deduciendo\n",
    "En esta sección inferiremos deduciremos opiniones y temas a partir de productos y artículos de noticias.\n",
    "\n",
    "## Setup"
   ]
  },
  {
   "cell_type": "code",
   "execution_count": 1,
   "metadata": {},
   "outputs": [],
   "source": [
    "import openai\n",
    "import textwrap\n",
    "openai.api_key = \"TU API KEY\"\n",
    "model = \"gpt-3.5-turbo\""
   ]
  },
  {
   "cell_type": "code",
   "execution_count": 2,
   "metadata": {},
   "outputs": [],
   "source": [
    "def get_completion(prompt, model):\n",
    "    messages = [{\"role\":\"user\",\"content\":prompt}]\n",
    "    response = openai.ChatCompletion.create(\n",
    "        model=model,\n",
    "        messages=messages,\n",
    "        temperature=0\n",
    "    )\n",
    "    return response.choices[0].message[\"content\"]"
   ]
  },
  {
   "attachments": {},
   "cell_type": "markdown",
   "metadata": {},
   "source": [
    "## Texto de la review del producto"
   ]
  },
  {
   "cell_type": "code",
   "execution_count": 3,
   "metadata": {},
   "outputs": [],
   "source": [
    "lamp_review = \"\"\" \n",
    "Necesitana una lámpara bonita para mi dormitorio y esta tenia espacio adicional para guardar cosas /\n",
    "y no era demasiado cara. La recibí rápido. La cuerda de la lámpara se rompió durante el transporte, /\n",
    "y la empresa me envió otra nueva. Llegó en unos días y fue fácil de montar. Me faltaba una pieza /\n",
    "así que me puse en contacto con su servicio de atención al cliente y me la consiguieron enseguida. /\n",
    "Lumina me parece una gran empresa que se preocupa por sus clientes y sus productos.\n",
    "\n",
    "\"\"\""
   ]
  },
  {
   "attachments": {},
   "cell_type": "markdown",
   "metadata": {},
   "source": [
    "## Sentimiento (positivo o negativo)\n"
   ]
  },
  {
   "cell_type": "code",
   "execution_count": 4,
   "metadata": {},
   "outputs": [
    {
     "name": "stdout",
     "output_type": "stream",
     "text": [
      "El sentimiento de la reseña delimitada en tres comillas es positivo y satisfecho con la empresa y el\n",
      "producto.\n"
     ]
    }
   ],
   "source": [
    "prompt = f\"\"\"\n",
    "¿Cúal es el sentiemiento de la reseña del producto delimitada en tres comillas?\n",
    "\n",
    "Texto de la reseña: '''{lamp_review}'''\n",
    "\"\"\"\n",
    "response = get_completion(prompt, model)\n",
    "texto_largo = textwrap.wrap(response, width=100)\n",
    "\n",
    "for linea in texto_largo:\n",
    "    print(linea)\n",
    "\n",
    "#! Seguir minuto 2:00 del video"
   ]
  },
  {
   "cell_type": "code",
   "execution_count": 5,
   "metadata": {},
   "outputs": [
    {
     "name": "stdout",
     "output_type": "stream",
     "text": [
      "Positiva.\n"
     ]
    }
   ],
   "source": [
    "# Cambiando el prompt para que diga la respuesta en una palabra, positiva o negativa la review\n",
    "\n",
    "prompt = f\"\"\"\n",
    "¿Cúal es el sentiemiento de la reseña del producto delimitada en tres comillas?\n",
    "\n",
    "Dame la respuesta en una sola palabra: positiva o negativa\n",
    "\n",
    "Texto de la reseña: '''{lamp_review}'''\n",
    "\"\"\"\n",
    "response = get_completion(prompt, model)\n",
    "texto_largo = textwrap.wrap(response, width=100)\n",
    "\n",
    "for linea in texto_largo:\n",
    "    print(linea)\n",
    "\n"
   ]
  },
  {
   "attachments": {},
   "cell_type": "markdown",
   "metadata": {},
   "source": [
    "## Identificar los tipos de emociones en el texto"
   ]
  },
  {
   "cell_type": "code",
   "execution_count": 6,
   "metadata": {},
   "outputs": [
    {
     "name": "stdout",
     "output_type": "stream",
     "text": [
      "contento, satisfecho, agradecido, impresionado, confiado.\n"
     ]
    }
   ],
   "source": [
    "prompt = f\"\"\"\n",
    "Identifica una lista de emociones que expresa el escritor en la reseña.\n",
    "No incluyas mas de cinco elementos en la lista.\n",
    "Escribe la respuesta como una lista de palabaras en minuscúlas separadas por comas.\n",
    "\n",
    "Texto de la reseña: '''{lamp_review}'''\n",
    "\n",
    "\"\"\"\n",
    "response = get_completion(prompt, model)\n",
    "texto_largo = textwrap.wrap(response, width=100)\n",
    "\n",
    "for linea in texto_largo:\n",
    "    print(linea)\n"
   ]
  },
  {
   "attachments": {},
   "cell_type": "markdown",
   "metadata": {},
   "source": [
    "## Identificar cabreos de los clientes\n"
   ]
  },
  {
   "cell_type": "code",
   "execution_count": 7,
   "metadata": {},
   "outputs": [
    {
     "name": "stdout",
     "output_type": "stream",
     "text": [
      "No.\n"
     ]
    }
   ],
   "source": [
    "prompt = f\"\"\"\n",
    "¿Esta enfadado el autor de la siguiente reseña?.\n",
    "\n",
    "La reseña está delimitada por tres comillas.\n",
    "Responda si o no.\n",
    "\n",
    "Texto de la reseña: '''{lamp_review}'''\n",
    "\"\"\"\n",
    "\n",
    "response = get_completion(prompt, model)\n",
    "texto_largo = textwrap.wrap(response, width=100)\n",
    "\n",
    "for linea in texto_largo:\n",
    "    print(linea)"
   ]
  },
  {
   "attachments": {},
   "cell_type": "markdown",
   "metadata": {},
   "source": [
    "## Extraer el nombre del producto y de la empresa de los compentarios de los clientes"
   ]
  },
  {
   "cell_type": "code",
   "execution_count": 10,
   "metadata": {},
   "outputs": [
    {
     "name": "stdout",
     "output_type": "stream",
     "text": [
      "{   \"Artículo\": \"Lámpara\",   \"Compañía\": \"Lumina\" }\n"
     ]
    }
   ],
   "source": [
    "prompt = f\"\"\"\n",
    "Identifica los siguientes elementos en el texto de la reseña.\n",
    "- Producto comprado por el autor de la reseña\n",
    "- Compañía que fabricó el producto\n",
    "\n",
    "La reseña esta delimitada por tres comillas.\n",
    "\n",
    "Formatee tu respuesta como un objeto JSON con \"Artículo\" y \"Compañía\" como claves.\n",
    "Si la información no está disponible, utilice \"null\" como valor.\n",
    "\n",
    "Usa una sola palabra para cada valor de las claves\n",
    "\n",
    "Texto de la reseña: '''{lamp_review}'''\n",
    "\n",
    "\"\"\"\n",
    "response = get_completion(prompt, model)\n",
    "texto_largo = textwrap.wrap(response, width=100)\n",
    "\n",
    "for linea in texto_largo:\n",
    "    print(linea)"
   ]
  },
  {
   "attachments": {},
   "cell_type": "markdown",
   "metadata": {},
   "source": [
    "## Haciendo múltiples tareas a la vez"
   ]
  },
  {
   "cell_type": "code",
   "execution_count": 11,
   "metadata": {},
   "outputs": [
    {
     "name": "stdout",
     "output_type": "stream",
     "text": [
      "{   \"Sentimiento\": \"Positivo\",   \"Enfado\": false,   \"Artículo\": \"Lámpara con espacio adicional para\n",
      "guardar cosas\",   \"Compañía\": \"Lumina\" }\n"
     ]
    }
   ],
   "source": [
    "prompt = f\"\"\"\n",
    "Identifica los siguientes elementos en el texto de la reseña.\n",
    "- Sentimiento (positivo o negativo) de la reseña\n",
    "- ¿Expresa enfado el autor de la reseña?\n",
    "- Artículo comprado por el autor de la reseña\n",
    "- Compañía que fabricó el producto\n",
    "\n",
    "La reseña esta delimitada por tres comillas.\n",
    "Formatea la respuesta como un objeto JSON con las claves \"Sentimiento\", \"Enfado\", \"Artículo\" y \"Compañía\" como claves.\n",
    "Si la información no está disponible, utilice \"null\" como valor.\n",
    "Haga su respuesta lo mas corta posible.\n",
    "Formatee el valor de la clave \"Enfado\" como un booleano.\n",
    "\n",
    "Texto de la reseña: '''{lamp_review}'''\n",
    "\n",
    "\"\"\"\n",
    "response = get_completion(prompt, model)\n",
    "texto_largo = textwrap.wrap(response, width=100)\n",
    "\n",
    "for linea in texto_largo:\n",
    "    print(linea)"
   ]
  },
  {
   "attachments": {},
   "cell_type": "markdown",
   "metadata": {},
   "source": [
    "## Inferir opiniones y temas a partir de artículos de noticias\n"
   ]
  },
  {
   "cell_type": "code",
   "execution_count": 15,
   "metadata": {},
   "outputs": [],
   "source": [
    "# Lo siguiente es un artículo ficticio de un periódico\n",
    "story = \"\"\"\n",
    "En una reciente encuesta realizada por el Gobierno, se pidió a los empleados del sector público que calificaran su nivel de\n",
    "satisfacción con el departamento en el que trabajan.  Los resultados revelaron que la NASA era el departamento más popular,\n",
    "con un índice de satisfacción del 95%.  Un empleado de la NASA, John Smith, comentó los resultados: \"No me sorprende que la\n",
    "NASA haya quedado primera. Es un gran lugar para trabajar, con gente increíble y oportunidades increíbles. Estoy orgulloso\n",
    "de formar parte de una organización tan innovadora\".\n",
    "Los resultados también fueron acogidos con satisfacción por el equipo directivo de la NASA, con el Director Tom Johnson declarando:\n",
    "\"Estamos encantados de escuchar que nuestros empleados están satisfechos con su trabajo en la NASA\".\n",
    "Tenemos un equipo talentoso y dedicado que trabaja incansablemente para lograr nuestros objetivos, y es fantástico ver que su duro\n",
    "trabajo está dando sus frutos.\"  La encuesta también reveló que la Administración de la Seguridad Social tenía el índice de\n",
    "satisfacción más bajo, con sólo el 45% de los empleados indicando que estaban satisfechos con su trabajo.\n",
    "El gobierno se ha comprometido a abordar las preocupaciones planteadas por los empleados en la encuesta y a trabajar para mejorar\n",
    "la satisfacción laboral en todos los departamentos.\n",
    "\"\"\""
   ]
  },
  {
   "attachments": {},
   "cell_type": "markdown",
   "metadata": {},
   "source": [
    "## Inferir 5 temas del artículo de noticias"
   ]
  },
  {
   "cell_type": "code",
   "execution_count": 18,
   "metadata": {},
   "outputs": [
    {
     "name": "stdout",
     "output_type": "stream",
     "text": [
      "Encuesta, satisfacción laboral, NASA, Administración de la Seguridad Social, gobierno.\n"
     ]
    }
   ],
   "source": [
    "# El siguiente prompt es para que el modelo identifique los temas de los que se habla en el texto\n",
    "prompt = f\"\"\"\n",
    "Determina cinco temas de los que se habla en el texto delimitado por tres comillas.\n",
    "\n",
    "Cada tema tiene que tener una o dos palabras.\n",
    "\n",
    "Presenta tu respuesta como una lista de palabras separadas por comas.\n",
    "\n",
    "Texto '''{story}'''\n",
    "\n",
    "\"\"\"\n",
    "response = get_completion(prompt, model)\n",
    "texto_largo = textwrap.wrap(response, width=100)\n",
    "\n",
    "for linea in texto_largo:\n",
    "    print(linea)"
   ]
  },
  {
   "cell_type": "code",
   "execution_count": 19,
   "metadata": {},
   "outputs": [
    {
     "data": {
      "text/plain": [
       "['Encuesta',\n",
       " ' satisfacción laboral',\n",
       " ' NASA',\n",
       " ' Administración de la Seguridad Social',\n",
       " ' gobierno.']"
      ]
     },
     "execution_count": 19,
     "metadata": {},
     "output_type": "execute_result"
    }
   ],
   "source": [
    "# Crea una lista para python con los temas que ha identificado el modelo\n",
    "response.split(sep=',')"
   ]
  },
  {
   "attachments": {},
   "cell_type": "markdown",
   "metadata": {},
   "source": [
    "## Hacer una alerta de noticias para ciertos temas"
   ]
  },
  {
   "cell_type": "code",
   "execution_count": 23,
   "metadata": {},
   "outputs": [],
   "source": [
    "# Lista que usaremos para ver si el modelo ha identificado los temas dentro de un artículo.\n",
    "\n",
    "topic_list = [\"NASA\",\"govierno local\",\"ingenieria\",\"satisfacion laboral\",\"gobierno federal\",\"Futbol\"]"
   ]
  },
  {
   "cell_type": "code",
   "execution_count": 26,
   "metadata": {},
   "outputs": [
    {
     "name": "stdout",
     "output_type": "stream",
     "text": [
      "NASA: 1 Gobierno local: 0 Ingeniería: 1 Satisfacción laboral: 1 Gobierno federal: 1 Fútbol: 0\n"
     ]
    }
   ],
   "source": [
    "# El siguiente prompt es para que el modelo identifique si los temas de la lista anterior están en el texto\n",
    "\n",
    "prompt = f\"\"\"\n",
    "Determina si cada elemento de la siguiente lista de temas es un tema del texto que aparece a continuación, /\n",
    "delimitado por tres comillas.\n",
    "\n",
    "Escribe tu respuesta como una lista con 0 o 1 para cada tema.\n",
    "\n",
    "Lista de temas: {\", \".join(topic_list)}\n",
    "\n",
    "texto: '''{story}'''\n",
    "\"\"\"\n",
    "response = get_completion(prompt, model)\n",
    "texto_largo = textwrap.wrap(response, width=100)\n",
    "\n",
    "for linea in texto_largo:\n",
    "    print(linea)"
   ]
  },
  {
   "cell_type": "code",
   "execution_count": 28,
   "metadata": {},
   "outputs": [
    {
     "name": "stdout",
     "output_type": "stream",
     "text": [
      "ALERT: New NASA story!\n"
     ]
    }
   ],
   "source": [
    "# Creamos un diccionario vacío donde almacenaremos los datos\n",
    "topic_dict = {}\n",
    "\n",
    "# Iteramos sobre la respuesta, utilizando el salto de línea como separador\n",
    "for i in response.split(sep='\\n'):\n",
    "    # Dividimos cada elemento en dos partes: la clave y el valor\n",
    "    key, value = i.split(': ')\n",
    "    # Convertimos el valor a un entero y lo añadimos al diccionario usando la clave correspondiente\n",
    "    topic_dict[key] = int(value)\n",
    "\n",
    "# Si la clave 'NASA' tiene valor 1, imprimimos una alerta\n",
    "if topic_dict['NASA'] == 1:\n",
    "    print(\"ALERT: New NASA story!\")\n",
    "\n",
    "\n",
    "\n",
    "\"\"\"\n",
    "Este código crea un diccionario vacío llamado topic_dict. Luego, divide una cadena de texto llamada \"response\"\n",
    "en líneas utilizando el separador \"\\n\", y recorre cada línea en un bucle for.\n",
    "\n",
    "Dentro del bucle for, se divide cada línea en dos partes utilizando el separador \": \", y se guarda la primera parte\n",
    "como una clave y la segunda parte como un valor en el diccionario topic_dict.\n",
    "\n",
    "Finalmente, si el valor asociado con la clave \"NASA\" en el diccionario es igual a 1, se imprime un mensaje de alerta.\n",
    "\n",
    "En resumen, este código procesa una cadena de texto que contiene pares clave-valor separados por \":\" y verifica\n",
    "si hay una nueva historia de NASA en la cadena procesada. Si es así, se imprime un mensaje de alerta.\n",
    "\"\"\"\n",
    "\n"
   ]
  }
 ],
 "metadata": {
  "kernelspec": {
   "display_name": "env",
   "language": "python",
   "name": "python3"
  },
  "language_info": {
   "codemirror_mode": {
    "name": "ipython",
    "version": 3
   },
   "file_extension": ".py",
   "mimetype": "text/x-python",
   "name": "python",
   "nbconvert_exporter": "python",
   "pygments_lexer": "ipython3",
   "version": "3.11.1"
  },
  "orig_nbformat": 4
 },
 "nbformat": 4,
 "nbformat_minor": 2
}
