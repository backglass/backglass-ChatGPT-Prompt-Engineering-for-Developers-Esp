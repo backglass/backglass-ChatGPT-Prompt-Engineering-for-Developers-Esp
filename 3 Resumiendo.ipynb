{
 "cells": [
  {
   "attachments": {},
   "cell_type": "markdown",
   "metadata": {},
   "source": [
    "# Resumiendo\n",
    "En esta sección resumiremos texto enfocandonos en un tema específico\n",
    "\n",
    "## Setup\n"
   ]
  },
  {
   "cell_type": "code",
   "execution_count": 4,
   "metadata": {},
   "outputs": [],
   "source": [
    "import openai\n",
    "import textwrap\n",
    "openai.api_key = \"TU API KEY\"\n",
    "model = \"gpt-3.5-turbo\""
   ]
  },
  {
   "cell_type": "code",
   "execution_count": 5,
   "metadata": {},
   "outputs": [],
   "source": [
    "def get_completion(prompt, model):\n",
    "    messages = [{\"role\":\"user\",\"content\":prompt}]\n",
    "    response = openai.ChatCompletion.create(\n",
    "        model=model,\n",
    "        messages=messages,\n",
    "        temperature=0\n",
    "    )\n",
    "    return response.choices[0].message[\"content\"]"
   ]
  },
  {
   "attachments": {},
   "cell_type": "markdown",
   "metadata": {},
   "source": [
    "## Texto para resumir"
   ]
  },
  {
   "cell_type": "code",
   "execution_count": 6,
   "metadata": {},
   "outputs": [],
   "source": [
    "# Review para resumir \n",
    "\n",
    "prod_review = \"\"\"\n",
    "Recibí este panda de peluche para el cumpleaños de mi hija, a quien le encanta y lo lleva a todas partes.\n",
    "Es suave y super lindo, y su cara tiene una mirada adorable. Sien embargo, es un poco pequeño para /\n",
    "su precio.\n",
    "Llegó un día antes de lo esperado, así que tuve que jugar con él antes de dárselo a mi hija.\n",
    "\"\"\""
   ]
  },
  {
   "attachments": {},
   "cell_type": "markdown",
   "metadata": {},
   "source": [
    "## Resumen con longituid de palabras / frases / caracteres"
   ]
  },
  {
   "cell_type": "code",
   "execution_count": 7,
   "metadata": {},
   "outputs": [
    {
     "name": "stdout",
     "output_type": "stream",
     "text": [
      "Peluche de panda suave y adorable, perfecto para niños. Un poco pequeño para su precio, pero llegó\n",
      "antes de lo esperado.\n"
     ]
    }
   ],
   "source": [
    "#* Prompt: Resuma la siguiente review de producto delimitada por tres comillas invertidas, en un máximo de 30 palabras.\n",
    "prompt = f\"\"\"\n",
    "Tu tarea es generar un breve resumen de una review producto de un sitio de comercio electrónico.\n",
    "\n",
    "Resuma la siguiente review de producto delimitada por tres comillas invertidas, en un máximo de 30 palabras.\n",
    "\n",
    "Review: ```{prod_review}```\n",
    "\"\"\"\n",
    "\n",
    "response = get_completion(prompt, model)\n",
    "texto_largo = textwrap.wrap(response, width=100)\n",
    "\n",
    "for linea in texto_largo:\n",
    "    print(linea)"
   ]
  },
  {
   "attachments": {},
   "cell_type": "markdown",
   "metadata": {},
   "source": [
    "## Resumen centrándose en el envío y la entrega."
   ]
  },
  {
   "cell_type": "code",
   "execution_count": 8,
   "metadata": {},
   "outputs": [
    {
     "name": "stdout",
     "output_type": "stream",
     "text": [
      "El envío llegó un día antes de lo esperado, lo que obligó al comprador a jugar con el producto antes\n",
      "de dárselo a su hija.\n"
     ]
    }
   ],
   "source": [
    "# Cambiado el prompt para que se centre en el envío y la entrega del producto \n",
    "# Añadiendo unas frases mas al prompt.\n",
    "prompt = f\"\"\"\n",
    "Tu tarea es generar un breve resumen de una review producto de un sitio de comercio electrónico. para /\n",
    "obtener feedback al departamento de envios.\n",
    "\n",
    "Resuma la siguiente review de producto delimitada por tres comillas invertidas, en un máximo de 30 palabras y /\n",
    "centrandose en cualquier aspecto que mencione el envío y la entrega del producto.\n",
    "\n",
    "Review: ```{prod_review}```\n",
    "\"\"\"\n",
    "\n",
    "response = get_completion(prompt, model)\n",
    "texto_largo = textwrap.wrap(response, width=100)\n",
    "\n",
    "for linea in texto_largo:\n",
    "    print(linea)"
   ]
  },
  {
   "attachments": {},
   "cell_type": "markdown",
   "metadata": {},
   "source": [
    "## Resumen centrandose en el precio y valor"
   ]
  },
  {
   "cell_type": "code",
   "execution_count": 9,
   "metadata": {},
   "outputs": [
    {
     "name": "stdout",
     "output_type": "stream",
     "text": [
      "El peluche de panda es suave y lindo, pero un poco pequeño para su precio. Llegó antes de lo\n",
      "esperado.\n"
     ]
    }
   ],
   "source": [
    "# Cambiado el prompt para que se centre en el precio del producto\n",
    "prompt = f\"\"\"\n",
    "Tu tarea es generar un breve resumen de una review producto de un sitio de comercio electrónico. para /\n",
    "obtener feedback al departamento de precios, responsable de determinar el precio del producto.\n",
    "\n",
    "Resuma la siguiente review de producto delimitada por tres comillas invertidas, en un máximo de 30 palabras y /\n",
    "centrandose en cualquier aspecto que sea relevante para el precio y valor del producto\n",
    "\n",
    "Review: ```{prod_review}```\n",
    "\"\"\"\n",
    "\n",
    "response = get_completion(prompt, model)\n",
    "texto_largo = textwrap.wrap(response, width=100)\n",
    "\n",
    "for linea in texto_largo:\n",
    "    print(linea)"
   ]
  },
  {
   "attachments": {},
   "cell_type": "markdown",
   "metadata": {},
   "source": [
    "#### Comentario:\n",
    "- Los resumenes incluyen temas que no están relacionados con el tema de interés."
   ]
  },
  {
   "attachments": {},
   "cell_type": "markdown",
   "metadata": {},
   "source": [
    "## Pruebe a \"Extraer\" en vez de \"Resumir\""
   ]
  },
  {
   "cell_type": "code",
   "execution_count": 10,
   "metadata": {},
   "outputs": [
    {
     "name": "stdout",
     "output_type": "stream",
     "text": [
      "El producto llegó un día antes de lo esperado, pero es un poco pequeño para su precio. No hay\n",
      "información relevante sobre el envío y la entrega.\n"
     ]
    }
   ],
   "source": [
    "\n",
    "#* Prompt: Extraiga la información relevante para el envío y la entrega del producto. En un limite de 30 palabras.\n",
    "#* para obtener feedback al departamento de envios.\n",
    " \n",
    "prompt = f\"\"\"\n",
    "Tu tarea es extraer información relevante de una review de un producto de un sitio web de comercio electrónico /\n",
    "para obtener feedback al departamento de envios.\n",
    "\n",
    "De la siguiente review delimitada por comillas triples, extraiga la información relevante para el envío y la / \n",
    "entrega del producto. En un limite de 30 palabras.\n",
    "\n",
    "Review: ```{prod_review}```\n",
    "\n",
    "\"\"\"\n",
    "\n",
    "response = get_completion(prompt, model)\n",
    "texto_largo = textwrap.wrap(response, width=100)\n",
    "\n",
    "for linea in texto_largo:\n",
    "    print(linea)"
   ]
  },
  {
   "attachments": {},
   "cell_type": "markdown",
   "metadata": {},
   "source": [
    "## Resumiendo multiples reviews de productos\n"
   ]
  },
  {
   "cell_type": "code",
   "execution_count": 12,
   "metadata": {},
   "outputs": [],
   "source": [
    "\n",
    "#* Creamos varios variables con diferentes reviews de productos para probar el modelo\n",
    "#* Las incluiremos en una lista para poder iterar sobre ellas  \n",
    "\n",
    "review_1 = prod_review  # Review anteriormente usada\n",
    "\n",
    "# review for a standing lamp\n",
    "review_2 = \"\"\"\n",
    "Needed a nice lamp for my bedroom, and this one \\\n",
    "had additional storage and not too high of a price \\\n",
    "point. Got it fast - arrived in 2 days. The string \\\n",
    "to the lamp broke during the transit and the company \\\n",
    "happily sent over a new one. Came within a few days \\\n",
    "as well. It was easy to put together. Then I had a \\\n",
    "missing part, so I contacted their support and they \\\n",
    "very quickly got me the missing piece! Seems to me \\\n",
    "to be a great company that cares about their customers \\\n",
    "and products. \n",
    "\"\"\"\n",
    "\n",
    "# review for an electric toothbrush\n",
    "review_3 = \"\"\"\n",
    "My dental hygienist recommended an electric toothbrush, \\\n",
    "which is why I got this. The battery life seems to be \\\n",
    "pretty impressive so far. After initial charging and \\\n",
    "leaving the charger plugged in for the first week to \\\n",
    "condition the battery, I've unplugged the charger and \\\n",
    "been using it for twice daily brushing for the last \\\n",
    "3 weeks all on the same charge. But the toothbrush head \\\n",
    "is too small. I’ve seen baby toothbrushes bigger than \\\n",
    "this one. I wish the head was bigger with different \\\n",
    "length bristles to get between teeth better because \\\n",
    "this one doesn’t.  Overall if you can get this one \\\n",
    "around the $50 mark, it's a good deal. The manufactuer's \\\n",
    "replacements heads are pretty expensive, but you can \\\n",
    "get generic ones that're more reasonably priced. This \\\n",
    "toothbrush makes me feel like I've been to the dentist \\\n",
    "every day. My teeth feel sparkly clean! \n",
    "\"\"\"\n",
    "\n",
    "# review for a blender\n",
    "review_4 = \"\"\"\n",
    "So, they still had the 17 piece system on seasonal \\\n",
    "sale for around $49 in the month of November, about \\\n",
    "half off, but for some reason (call it price gouging) \\\n",
    "around the second week of December the prices all went \\\n",
    "up to about anywhere from between $70-$89 for the same \\\n",
    "system. And the 11 piece system went up around $10 or \\\n",
    "so in price also from the earlier sale price of $29. \\\n",
    "So it looks okay, but if you look at the base, the part \\\n",
    "where the blade locks into place doesn’t look as good \\\n",
    "as in previous editions from a few years ago, but I \\\n",
    "plan to be very gentle with it (example, I crush \\\n",
    "very hard items like beans, ice, rice, etc. in the \\ \n",
    "blender first then pulverize them in the serving size \\\n",
    "I want in the blender then switch to the whipping \\\n",
    "blade for a finer flour, and use the cross cutting blade \\\n",
    "first when making smoothies, then use the flat blade \\\n",
    "if I need them finer/less pulpy). Special tip when making \\\n",
    "smoothies, finely cut and freeze the fruits and \\\n",
    "vegetables (if using spinach-lightly stew soften the \\ \n",
    "spinach then freeze until ready for use-and if making \\\n",
    "sorbet, use a small to medium sized food processor) \\ \n",
    "that you plan to use that way you can avoid adding so \\\n",
    "much ice if at all-when making your smoothie. \\\n",
    "After about a year, the motor was making a funny noise. \\\n",
    "I called customer service but the warranty expired \\\n",
    "already, so I had to buy another one. FYI: The overall \\\n",
    "quality has gone done in these types of products, so \\\n",
    "they are kind of counting on brand recognition and \\\n",
    "consumer loyalty to maintain sales. Got it in about \\\n",
    "two days.\n",
    "\"\"\"\n",
    "\n",
    "reviews = [review_1, review_2, review_3, review_4] # Lista de reviews\n"
   ]
  },
  {
   "cell_type": "code",
   "execution_count": 1,
   "metadata": {},
   "outputs": [
    {
     "ename": "NameError",
     "evalue": "name 'reviews' is not defined",
     "output_type": "error",
     "traceback": [
      "\u001b[1;31m---------------------------------------------------------------------------\u001b[0m",
      "\u001b[1;31mNameError\u001b[0m                                 Traceback (most recent call last)",
      "Cell \u001b[1;32mIn[1], line 15\u001b[0m\n\u001b[0;32m      2\u001b[0m \u001b[39m# El código anterior realiza lo siguiente:\u001b[39;00m\n\u001b[0;32m      3\u001b[0m \n\u001b[0;32m      4\u001b[0m \u001b[39m#   - Define una variable llamada \"count\" y la inicializa en cero.\u001b[39;00m\n\u001b[1;32m   (...)\u001b[0m\n\u001b[0;32m     11\u001b[0m \u001b[39m#   - El resultado de la función es asignado a la variable \"response\" que a su vez es concatenada con \"count\" y el\u001b[39;00m\n\u001b[0;32m     12\u001b[0m \u001b[39m#     resultado es impreso en la pantalla en líneas de máximo 100 caracteres utilizando la función \"textwrap.wrap()\".\u001b[39;00m\n\u001b[0;32m     13\u001b[0m count \u001b[39m=\u001b[39m \u001b[39m0\u001b[39m\n\u001b[1;32m---> 15\u001b[0m \u001b[39mfor\u001b[39;00m review \u001b[39min\u001b[39;00m reviews: \u001b[39m# Itera sobre la lista de reviews\u001b[39;00m\n\u001b[0;32m     16\u001b[0m     prompt \u001b[39m=\u001b[39m \u001b[39mf\u001b[39m\u001b[39m\"\"\"\u001b[39m\n\u001b[0;32m     17\u001b[0m \u001b[39m    Tu tarea es generar un corto resumen de una review de un producto / \u001b[39m\n\u001b[0;32m     18\u001b[0m \u001b[39m    de un sitio web de comercio electrónico.\u001b[39m\n\u001b[1;32m   (...)\u001b[0m\n\u001b[0;32m     24\u001b[0m \u001b[39m    Review: ```\u001b[39m\u001b[39m{\u001b[39;00mreview\u001b[39m}\u001b[39;00m\u001b[39m```\u001b[39m\n\u001b[0;32m     25\u001b[0m \u001b[39m    \u001b[39m\u001b[39m\"\"\"\u001b[39m\n\u001b[0;32m     26\u001b[0m     count \u001b[39m+\u001b[39m\u001b[39m=\u001b[39m \u001b[39m1\u001b[39m\n",
      "\u001b[1;31mNameError\u001b[0m: name 'reviews' is not defined"
     ]
    },
    {
     "ename": "",
     "evalue": "",
     "output_type": "error",
     "traceback": [
      "\u001b[1;31mEl Kernel se bloqueó al ejecutar código en la celda actual o en una celda anterior. Revise el código de las celdas para identificar una posible causa del error. Haga clic <a href='https://aka.ms/vscodeJupyterKernelCrash'>aquí</a> para obtener más información. Vea el [registro] de Jupyter (command:jupyter.viewOutput) para obtener más detalles."
     ]
    }
   ],
   "source": [
    "\n",
    "# El código anterior realiza lo siguiente:\n",
    "\n",
    "#   - Define una variable llamada \"count\" y la inicializa en cero.\n",
    "#   - Crea un loop que itera sobre una lista llamada \"reviews\".\n",
    "#   - Dentro del loop, se define la variable \"prompt\" la cual es asignada a una serie de instrucciones en formato string\n",
    "#     que solicitan al usuario un resumen de una review en español de un producto/sitio web en un máximo de 20 palabras.\n",
    "#   - Se incrementa el valor de la variable \"count\" en 1.\n",
    "#   - Se hace una llamada a una función llamada \"get_completion\" y se le pasa como argumentos la variable \"prompt\"\n",
    "#     y otra llamada \"model\".\n",
    "#   - El resultado de la función es asignado a la variable \"response\" que a su vez es concatenada con \"count\" y el\n",
    "#     resultado es impreso en la pantalla en líneas de máximo 100 caracteres utilizando la función \"textwrap.wrap()\".\n",
    "count = 0\n",
    "\n",
    "for review in reviews: # Itera sobre la lista de reviews\n",
    "    prompt = f\"\"\"\n",
    "    Tu tarea es generar un corto resumen de una review de un producto / \n",
    "    de un sitio web de comercio electrónico.\n",
    "    \n",
    "    Resuma la siguiente review delimitada por triples comillas, en un máximo de 20 palabras.\n",
    "    \n",
    "    Usa el idoma español.\n",
    "    \n",
    "    Review: ```{review}```\n",
    "    \"\"\"\n",
    "    count += 1\n",
    "    response = str(count) + \" \" + get_completion(prompt, model) # Concatena el número de review con el resumen generado\n",
    "    texto_largo = textwrap.wrap(response, width=100)\n",
    "\n",
    "    for linea in texto_largo:\n",
    "        print(linea)"
   ]
  }
 ],
 "metadata": {
  "kernelspec": {
   "display_name": "env",
   "language": "python",
   "name": "python3"
  },
  "language_info": {
   "codemirror_mode": {
    "name": "ipython",
    "version": 3
   },
   "file_extension": ".py",
   "mimetype": "text/x-python",
   "name": "python",
   "nbconvert_exporter": "python",
   "pygments_lexer": "ipython3",
   "version": "3.11.1"
  },
  "orig_nbformat": 4
 },
 "nbformat": 4,
 "nbformat_minor": 2
}
