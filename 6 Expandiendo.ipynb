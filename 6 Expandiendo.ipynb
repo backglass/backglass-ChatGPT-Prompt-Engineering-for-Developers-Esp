{
 "cells": [
  {
   "attachments": {},
   "cell_type": "markdown",
   "metadata": {},
   "source": [
    "# Ampliando\n",
    "Ampliación En esta lección, generará correos electrónicos de atención al cliente adaptados a la revisión de cada cliente.\n",
    "## Setup"
   ]
  },
  {
   "cell_type": "code",
   "execution_count": 2,
   "metadata": {},
   "outputs": [],
   "source": [
    "import openai\n",
    "import textwrap # Para quebrar o texto em lineas\n",
    "openai.api_key = \"TU API KEY\"\n",
    "model = \"gpt-3.5-turbo\""
   ]
  },
  {
   "cell_type": "code",
   "execution_count": 7,
   "metadata": {},
   "outputs": [],
   "source": [
    "def get_completion(prompt, model,temperature=0):\n",
    "    messages = [{\"role\":\"user\",\"content\":prompt}]\n",
    "    response = openai.ChatCompletion.create(\n",
    "        model=model,\n",
    "        messages=messages,\n",
    "        temperature=temperature\n",
    "    )\n",
    "    return response.choices[0].message[\"content\"]"
   ]
  },
  {
   "attachments": {},
   "cell_type": "markdown",
   "metadata": {},
   "source": [
    "## Personalizar la respuesta automática al correo electrónico de un cliente"
   ]
  },
  {
   "cell_type": "code",
   "execution_count": 3,
   "metadata": {},
   "outputs": [],
   "source": [
    "## dado el sentimiento de la lección sobre \"inferir\", # y el mensaje original del cliente, personaliza el email\n",
    "\n",
    "sentiment = \"negative\"\n",
    "\n",
    "# Reseña de una batidora\n",
    "reseña = f\"\"\"\n",
    "So, they still had the 17 piece system on seasonal \\\n",
    "sale for around $49 in the month of November, about \\\n",
    "half off, but for some reason (call it price gouging) \\\n",
    "around the second week of December the prices all went \\\n",
    "up to about anywhere from between $70-$89 for the same \\\n",
    "system. And the 11 piece system went up around $10 or \\\n",
    "so in price also from the earlier sale price of $29. \\\n",
    "So it looks okay, but if you look at the base, the part \\\n",
    "where the blade locks into place doesn’t look as good \\\n",
    "as in previous editions from a few years ago, but I \\\n",
    "plan to be very gentle with it (example, I crush \\\n",
    "very hard items like beans, ice, rice, etc. in the \\ \n",
    "blender first then pulverize them in the serving size \\\n",
    "I want in the blender then switch to the whipping \\\n",
    "blade for a finer flour, and use the cross cutting blade \\\n",
    "first when making smoothies, then use the flat blade \\\n",
    "if I need them finer/less pulpy). Special tip when making \\\n",
    "smoothies, finely cut and freeze the fruits and \\\n",
    "vegetables (if using spinach-lightly stew soften the \\ \n",
    "spinach then freeze until ready for use-and if making \\\n",
    "sorbet, use a small to medium sized food processor) \\ \n",
    "that you plan to use that way you can avoid adding so \\\n",
    "much ice if at all-when making your smoothie. \\\n",
    "After about a year, the motor was making a funny noise. \\\n",
    "I called customer service but the warranty expired \\\n",
    "already, so I had to buy another one. FYI: The overall \\\n",
    "quality has gone done in these types of products, so \\\n",
    "they are kind of counting on brand recognition and \\\n",
    "consumer loyalty to maintain sales. Got it in about \\\n",
    "two days.\n",
    "\"\"\""
   ]
  },
  {
   "cell_type": "code",
   "execution_count": 4,
   "metadata": {},
   "outputs": [
    {
     "name": "stdout",
     "output_type": "stream",
     "text": [
      "Estimado cliente,  Gracias por compartir su opinión sobre nuestro sistema de 17 piezas. Lamentamos\n",
      "mucho que haya experimentado un aumento de precios en diciembre y que haya encontrado que la calidad\n",
      "del producto ha disminuido en comparación con ediciones anteriores. Nos disculpamos por cualquier\n",
      "inconveniente que esto haya causado.  Le recomendamos que se ponga en contacto con nuestro servicio\n",
      "de atención al cliente para que podamos ayudarlo a resolver cualquier problema que tenga con su\n",
      "producto. Nos esforzamos por brindar la mejor experiencia posible a nuestros clientes y nos gustaría\n",
      "tener la oportunidad de hacerlo por usted.  Gracias de nuevo por su opinión y esperamos poder\n",
      "servirle mejor en el futuro.  Atentamente, Agente de atención al cliente de AI\n"
     ]
    }
   ],
   "source": [
    "prompt = f\"\"\"\n",
    "Eres un asistente de atenciión al cliente.\n",
    "Tu tarea consiste en enviar un correo electrónico de respuesta a un valioso cliente.\n",
    "Dado el correo electrónico del cliente delimitado por ``` , genera una respuesta para \\\n",
    "agradecerle al cliente su opinión.\n",
    "Si el sentimiento es positivo o neutral agradece al cliente por su opinión.\n",
    "Si el sentimiento es negativo, discúlpate y sugiérele que se ponga en contacto con el servicio de atención al cliente.\n",
    "Asegúrate de utilizar detalles concretos de la opinión.\n",
    "Escribe en un tono conciso y profesional.\n",
    "Traduza el resultado al español.\n",
    "\n",
    "Firma el correo electronico como \"Agente de atención al cliente de AI\".\n",
    "Opinion del cliente: ```{reseña}```\n",
    "Sentimiento de la opinión: {sentiment}\n",
    "\"\"\"\n",
    "\n",
    "response = get_completion(prompt, model)\n",
    "texto_largo = textwrap.wrap(response, width=100)\n",
    "\n",
    "for linea in texto_largo:\n",
    "    print(linea)"
   ]
  },
  {
   "attachments": {},
   "cell_type": "markdown",
   "metadata": {},
   "source": [
    "## Recuerda al modelo que utilice los datos del correo electrónico del cliente"
   ]
  },
  {
   "cell_type": "code",
   "execution_count": 8,
   "metadata": {},
   "outputs": [
    {
     "name": "stdout",
     "output_type": "stream",
     "text": [
      "Estimado/a cliente,  Gracias por tomar el tiempo de compartir su opinión sobre nuestro producto.\n",
      "Lamentamos mucho que haya experimentado un aumento en los precios del sistema que estaba interesado\n",
      "en comprar. Entendemos su frustración y le pedimos disculpas por cualquier inconveniente que esto\n",
      "haya causado.  Lamentablemente, no podemos controlar los cambios en los precios de venta al público,\n",
      "pero esperamos que pueda encontrar un producto que se ajuste a su presupuesto. Si hay algo más en lo\n",
      "que podamos ayudarlo, no dude en ponerse en contacto con nuestro servicio de atención al cliente.\n",
      "Apreciamos sus comentarios sobre la calidad de nuestro producto y tomaremos en cuenta sus\n",
      "sugerencias para futuras mejoras. Gracias de nuevo por su valiosa opinión.  Atentamente, Agente de\n",
      "atención al cliente de AI\n"
     ]
    },
    {
     "ename": "",
     "evalue": "",
     "output_type": "error",
     "traceback": [
      "\u001b[1;31mEl Kernel se bloqueó al ejecutar código en la celda actual o en una celda anterior. Revise el código de las celdas para identificar una posible causa del error. Haga clic <a href='https://aka.ms/vscodeJupyterKernelCrash'>aquí</a> para obtener más información. Vea el [registro] de Jupyter (command:jupyter.viewOutput) para obtener más detalles."
     ]
    }
   ],
   "source": [
    "\n",
    "#* A continuación, vamos ha hacer lo anterior PERO aumentando la temperatura del modelo\n",
    "#* Lo hará mas creativo\n",
    "#* Con temperatura 0 siempre obtenemos el mismo resultado, pero con 0.7 en este caso, \n",
    "#* Siempre obtenemos un resultado diferente\n",
    "\n",
    "prompt = f\"\"\"\n",
    "Eres un asistente de atenciión al cliente.\n",
    "Tu tarea consiste en enviar un correo electrónico de respuesta a un valioso cliente.\n",
    "Dado el correo electrónico del cliente delimitado por ``` , genera una respuesta para \\\n",
    "agradecerle al cliente su opinión.\n",
    "Si el sentimiento es positivo o neutral agradece al cliente por su opinión.\n",
    "Si el sentimiento es negativo, discúlpate y sugiérele que se ponga en contacto con el servicio de atención al cliente.\n",
    "Asegúrate de utilizar detalles concretos de la opinión.\n",
    "Escribe en un tono conciso y profesional.\n",
    "Traduza el resultado al español.\n",
    "\n",
    "Firma el correo electronico como \"Agente de atención al cliente de AI\".\n",
    "Opinion del cliente: ```{reseña}```\n",
    "Sentimiento de la opinión: {sentiment}\n",
    "\"\"\"\n",
    "\n",
    "response = get_completion(prompt, model, temperature=0.7)\n",
    "texto_largo = textwrap.wrap(response, width=100)\n",
    "\n",
    "for linea in texto_largo:\n",
    "    print(linea)"
   ]
  }
 ],
 "metadata": {
  "kernelspec": {
   "display_name": "env",
   "language": "python",
   "name": "python3"
  },
  "language_info": {
   "codemirror_mode": {
    "name": "ipython",
    "version": 3
   },
   "file_extension": ".py",
   "mimetype": "text/x-python",
   "name": "python",
   "nbconvert_exporter": "python",
   "pygments_lexer": "ipython3",
   "version": "3.11.1"
  },
  "orig_nbformat": 4
 },
 "nbformat": 4,
 "nbformat_minor": 2
}
