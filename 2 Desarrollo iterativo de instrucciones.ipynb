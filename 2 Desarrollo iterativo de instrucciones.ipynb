{
 "cells": [
  {
   "attachments": {},
   "cell_type": "markdown",
   "metadata": {},
   "source": [
    "# Desarrollo iterativo de instrucciones (Iterative prompt development)\n",
    "\n",
    "En esta lección, analizará y perfeccionará de forma iterativa sus indicaciones para generar textos de marketing a partir de la ficha de un producto.\n",
    "\n",
    "## Setup"
   ]
  },
  {
   "cell_type": "code",
   "execution_count": 1,
   "metadata": {},
   "outputs": [],
   "source": [
    "import openai\n",
    "import textwrap\n",
    "openai.api_key = \"TU API KEY\"\n",
    "model = \"gpt-3.5-turbo\""
   ]
  },
  {
   "cell_type": "code",
   "execution_count": 2,
   "metadata": {},
   "outputs": [],
   "source": [
    "def get_completion(prompt, model):\n",
    "    messages = [{\"role\":\"user\",\"content\":prompt}]\n",
    "    response = openai.ChatCompletion.create(\n",
    "        model=model,\n",
    "        messages=messages,\n",
    "        temperature=0\n",
    "    )\n",
    "    return response.choices[0].message[\"content\"]"
   ]
  },
  {
   "attachments": {},
   "cell_type": "markdown",
   "metadata": {},
   "source": [
    "#### Guia de prompts\n",
    "- Se claro y específico\n",
    "- Analiza los resultados si no son deseados.\n",
    "- Refina la idea y el prompt\n",
    "- Repite\n"
   ]
  },
  {
   "attachments": {},
   "cell_type": "markdown",
   "metadata": {},
   "source": [
    "## Generación de una descripción de un producto de marketing a partir de la ficha del producto"
   ]
  },
  {
   "cell_type": "code",
   "execution_count": 3,
   "metadata": {},
   "outputs": [],
   "source": [
    "# El código proporcionado es en realidad un texto que describe las características de una silla de oficina que se vende en el mercado.\n",
    "# Se detallan las opciones disponibles de colores y acabados, los tipos de tapizado y los materiales utilizados en la\n",
    "# construcción de la silla.\n",
    "\n",
    "ficha_de_silla = \"\"\"\n",
    "RESUMEN\n",
    "- Forma parte de una bonita familia de muebles de oficina inspirados en la época de mediados de sigo, /\n",
    "que incluye archivadores,  escritorios, librerias, mesas de reuniones y mucho más.\n",
    "- Varios opciones de colores y acabados base.\n",
    "- Disponible con tapizado frontal y trasero de plástico (SWC-100) o tapizado completo (SWC-110) en 10 opciones de tela y 6 de piel.\n",
    "- Las opciones del acabado base son: acero inoxidable, negro mate, blanco brillante o cromado.\n",
    "- La silla esta disponible con o sin reposabrazos.\n",
    "- Adecuada para el uso doméstico o profesional.\n",
    "- Apta para el uso contractual.\n",
    "\n",
    "CONSTUCCIÓN\n",
    "- Base de aluminio recubierto de plastico de 5 ruedas.\n",
    "- Ajuste neumático de la silla para subir/bajar fácilmente.\n",
    "\n",
    "DIMENSIONES\n",
    "- ANCHO 53 CM | 20.87\".\n",
    "- PROFUNDIDA 51 CM | 20.08\".\n",
    "- ALTURA 80 CM | 31.50\".\n",
    "- ALTURA DEL ASIENTO 44 CM | 17.32\".\n",
    "- PROFUNDIDAD DEL ASIENTO 41 CM | 16.14\".\n",
    "\n",
    "OPCIONES\n",
    "- Ruedas para piso blando o duro.\n",
    "- Dos densidades de espuma del asiento: \\\n",
    "  densidad media (1.8 lb/ft3) o alta (2.8 lb/ftl3).\n",
    "- Reposabrazos sin brazos o con 8 posiciones.\n",
    "\n",
    "MATERIALES\n",
    "CARCASA BASE\n",
    "- Aluminio fundido con revestimiento de nylon modificado PA6/PA66.\n",
    "- Espesor de la carcasa: 10 mm.\n",
    "\n",
    "ASIENTO\n",
    "- Espuma HD36.\n",
    "\n",
    "PAÍS DE ORIGEN\n",
    "- Italia.\n",
    "\n",
    "\n",
    "\"\"\""
   ]
  },
  {
   "cell_type": "code",
   "execution_count": 4,
   "metadata": {},
   "outputs": [
    {
     "name": "stdout",
     "output_type": "stream",
     "text": [
      "Introduciendo la silla de oficina SWC-100/110, parte de nuestra hermosa familia de muebles de\n",
      "oficina inspirados en la época de mediados de siglo. Esta silla es perfecta para cualquier entorno,\n",
      "ya sea en casa o en la oficina, y es adecuada para uso doméstico o profesional. La silla está\n",
      "disponible en varias opciones de colores y acabados base, incluyendo acero inoxidable, negro mate,\n",
      "blanco brillante o cromado. Además, puede elegir entre tapizado frontal y trasero de plástico\n",
      "(SWC-100) o tapizado completo (SWC-110) en 10 opciones de tela y 6 de piel.  La construcción de la\n",
      "silla es de alta calidad, con una base de aluminio recubierto de plástico de 5 ruedas y un ajuste\n",
      "neumático para subir y bajar fácilmente. Las dimensiones de la silla son ANCHO 53 CM | 20.87\",\n",
      "PROFUNDIDAD 51 CM | 20.08\", ALTURA 80 CM | 31.50\", ALTURA DEL ASIENTO 44 CM | 17.32\", PROFUNDIDAD\n",
      "DEL ASIENTO 41 CM | 16.14\".  Además, ofrecemos opciones personalizadas para adaptarse a sus\n",
      "necesidades, como ruedas para piso blando o duro, dos densidades de espuma del asiento (densidad\n",
      "media o alta) y reposabrazos sin brazos o con 8 posiciones. La carcasa base está hecha de aluminio\n",
      "fundido con revestimiento de nylon modificado PA6/PA66, con un espesor de carcasa de 10 mm. El\n",
      "asiento está hecho de espuma HD36 de alta calidad.  Esta silla de oficina SWC-100/110 es una adición\n",
      "elegante y funcional a cualquier espacio de trabajo. ¡Ordene la suya hoy y experimente la comodidad\n",
      "y la calidad de la silla de oficina italiana!\n"
     ]
    }
   ],
   "source": [
    "# En resumen el código utiliza una herramienta de procesamiento de lenguaje natural para generar una descripción de \n",
    "# un producto a partir de una ficha técnica, y la presenta en la consola de manera legible para el usuario.\n",
    "\n",
    "prompt = f\"\"\"\n",
    "Su tarea consiste en ayudar a un equipo de marketing a crear una descipción para un sitio web /\n",
    "de venta al pormenor de un producto basado en una ficha técnica.\n",
    "Escriba una descripción del producto basada en la información proporcionada  en las especificaciones dadas delimitadas /\n",
    "con tres comillas ``` {ficha_de_silla} ```\n",
    "\n",
    "\"\"\"\n",
    "\n",
    "response = get_completion(prompt, model)\n",
    "texto_largo = textwrap.wrap(response, width=100)\n",
    "\n",
    "for linea in texto_largo:\n",
    "    print(linea)"
   ]
  },
  {
   "attachments": {},
   "cell_type": "markdown",
   "metadata": {},
   "source": [
    "## Problema 1: EL texto es demasiado largo\n",
    "- Limita el numero de palabras/frases/letras"
   ]
  },
  {
   "cell_type": "code",
   "execution_count": 5,
   "metadata": {},
   "outputs": [
    {
     "name": "stdout",
     "output_type": "stream",
     "text": [
      "\"Descubre nuestra elegante silla de oficina inspirada en la época de mediados de siglo. Forma parte\n",
      "de una familia de muebles que incluye archivadores, escritorios, librerías y mesas de reuniones.\n",
      "Disponible en varios colores y acabados base, con opciones de tapizado frontal y trasero de plástico\n",
      "o completo en tela o piel. Ajuste neumático para subir/bajar fácilmente y opciones de ruedas y\n",
      "reposabrazos. Perfecta para uso doméstico o profesional y apta para uso contractual. Fabricada en\n",
      "Italia con materiales de alta calidad.\"\n"
     ]
    },
    {
     "data": {
      "text/plain": [
       "82"
      ]
     },
     "execution_count": 5,
     "metadata": {},
     "output_type": "execute_result"
    }
   ],
   "source": [
    "#* Donde pone usa 50 palabras, podemos cambiarlo por usa 3 frases o 280 caracteres\n",
    "\n",
    "prompt = f\"\"\"\n",
    "Su tarea consiste en ayudar a un equipo de marketing a crear una descipción para un sitio web /\n",
    "de venta al pormenor de un producto basado en una ficha técnica.\n",
    "\n",
    "Usa 50 palabras.\n",
    "\n",
    "Escriba una descripción del producto basada en la información proporcionada  en las especificaciones dadas delimitadas /\n",
    "con tres comillas ``` {ficha_de_silla} ```\n",
    "\n",
    "\"\"\"\n",
    "\n",
    "response = get_completion(prompt, model)\n",
    "texto_largo = textwrap.wrap(response, width=100)\n",
    "\n",
    "for linea in texto_largo:\n",
    "    print(linea)\n",
    "len(response.split())"
   ]
  },
  {
   "attachments": {},
   "cell_type": "markdown",
   "metadata": {},
   "source": [
    "## Problema 2: El texto se centra en detalles erroneos\n",
    "- Pídele que se centre en los aspectos relevantes para el público destinatario"
   ]
  },
  {
   "cell_type": "code",
   "execution_count": 7,
   "metadata": {},
   "outputs": [
    {
     "name": "stdout",
     "output_type": "stream",
     "text": [
      "\"La silla de oficina SWC es parte de una elegante familia de muebles inspirados en la época de\n",
      "mediados de siglo. Disponible en varias opciones de colores y acabados base, con tapizado frontal y\n",
      "trasero de plástico o tapizado completo en tela o piel. La silla cuenta con una base de aluminio\n",
      "recubierto de plástico de 5 ruedas y ajuste neumático para subir/bajar fácilmente. Adecuada para uso\n",
      "doméstico o profesional y apta para uso contractual. Fabricada en Italia con materiales de alta\n",
      "calidad.\"\n"
     ]
    },
    {
     "data": {
      "text/plain": [
       "83"
      ]
     },
     "execution_count": 7,
     "metadata": {},
     "output_type": "execute_result"
    }
   ],
   "source": [
    "#En el prompt se le pide que sea mas explicito hacia los clientes potenciales\n",
    "prompt = f\"\"\"\n",
    "Su tarea consiste en ayudar a un equipo de marketing a crear una descipción para un sitio web /\n",
    "de venta al pormenor de un producto basado en una ficha técnica.\n",
    "\n",
    "La descripción esta destinada a los minoristas de muebles, por lo tanto debe ser de carácter técnico /\n",
    "y centrarse en los materiales que está fabricado el producto\n",
    "\n",
    "Usa 50 palabras.\n",
    "\n",
    "Escriba una descripción del producto basada en la información proporcionada  en las especificaciones dadas delimitadas /\n",
    "con tres comillas ``` {ficha_de_silla} ```\n",
    "\n",
    "\"\"\"\n",
    "\n",
    "response = get_completion(prompt, model)\n",
    "texto_largo = textwrap.wrap(response, width=100)\n",
    "\n",
    "for linea in texto_largo:\n",
    "    print(linea)\n",
    "len(response.split())"
   ]
  },
  {
   "attachments": {},
   "cell_type": "markdown",
   "metadata": {},
   "source": [
    "## Afinando más el prompt\n"
   ]
  },
  {
   "cell_type": "code",
   "execution_count": 8,
   "metadata": {},
   "outputs": [
    {
     "name": "stdout",
     "output_type": "stream",
     "text": [
      "La silla de oficina SWC es parte de una familia de muebles inspirados en la época de mediados de\n",
      "siglo. Disponible en varias opciones de colores y acabados base, con tapizado frontal y trasero de\n",
      "plástico o tapizado completo en tela o piel. La silla cuenta con una base de aluminio recubierto de\n",
      "plástico de 5 ruedas y ajuste neumático para subir/bajar fácilmente. Adecuada para uso doméstico o\n",
      "profesional y apta para uso contractual. (ID del producto: SWC-100/SWC-110)\n"
     ]
    },
    {
     "data": {
      "text/plain": [
       "78"
      ]
     },
     "execution_count": 8,
     "metadata": {},
     "output_type": "execute_result"
    }
   ],
   "source": [
    "#* Añadiendo más detalles al prompt para que sea más específico con los materiales\n",
    "\n",
    "prompt = f\"\"\"\n",
    "Su tarea consiste en ayudar a un equipo de marketing a crear una descipción para un sitio web /\n",
    "de venta al pormenor de un producto basado en una ficha técnica.\n",
    "\n",
    "La descripción esta destinada a los minoristas de muebles, por lo tanto debe ser de carácter técnico /\n",
    "y centrarse en los materiales que está fabricado el producto.\n",
    "\n",
    "Al final de la descripción, incluya el id del producto de la especificación técnica.\n",
    "\n",
    "Usa 50 palabras.\n",
    "\n",
    "Escriba una descripción del producto basada en la información proporcionada  en las especificaciones dadas delimitadas /\n",
    "con tres comillas ``` {ficha_de_silla} ```\n",
    "\n",
    "\"\"\"\n",
    "\n",
    "response = get_completion(prompt, model)\n",
    "texto_largo = textwrap.wrap(response, width=100)\n",
    "\n",
    "for linea in texto_largo:\n",
    "    print(linea)\n",
    "len(response.split())\n"
   ]
  },
  {
   "attachments": {},
   "cell_type": "markdown",
   "metadata": {},
   "source": [
    "## Problema 3. La descripción necesita una tabla de dimensiones\n",
    "- Pídele que extraiga la información y la organice en una tabla"
   ]
  },
  {
   "cell_type": "code",
   "execution_count": 11,
   "metadata": {},
   "outputs": [
    {
     "name": "stdout",
     "output_type": "stream",
     "text": [
      "<div>\n",
      "<p>La silla de oficina SWC-100 es parte de una hermosa familia de muebles de oficina inspirados en la época de mediados de siglo. Esta silla está disponible en varias opciones de colores y acabados base, lo que la hace perfecta para cualquier estilo de decoración. Puede elegir entre tapizado frontal y trasero de plástico (SWC-100) o tapizado completo (SWC-110) en 10 opciones de tela y 6 de piel. Las opciones del acabado base son: acero inoxidable, negro mate, blanco brillante o cromado. La silla está disponible con o sin reposabrazos y es adecuada para el uso doméstico o profesional, así como para el uso contractual.</p>\n",
      "\n",
      "<p>La construcción de la silla es de alta calidad, con una base de aluminio recubierto de plástico de 5 ruedas y un ajuste neumático de la silla para subir/bajar fácilmente. Las dimensiones de la silla son las siguientes: ancho 53 cm | 20.87\", profundidad 51 cm | 20.08\", altura 80 cm | 31.50\", altura del asiento 44 cm | 17.32\" y profundidad del asiento 41 cm | 16.14\".</p>\n",
      "\n",
      "<p>Además, la silla SWC-100 tiene varias opciones adicionales, como ruedas para piso blando o duro, dos densidades de espuma del asiento: densidad media (1.8 lb/ft3) o alta (2.8 lb/ftl3) y reposabrazos sin brazos o con 8 posiciones.</p>\n",
      "\n",
      "<p>La carcasa base de la silla está hecha de aluminio fundido con revestimiento de nylon modificado PA6/PA66 con un espesor de carcasa de 10 mm. El asiento está hecho de espuma HD36. La silla SWC-100 es de origen italiano.</p>\n",
      "</div>\n",
      "\n",
      "<table>\n",
      "  <caption>Dimensiones del producto</caption>\n",
      "  <tr>\n",
      "    <th>Dimensión</th>\n",
      "    <th>Medida en pulgadas</th>\n",
      "  </tr>\n",
      "  <tr>\n",
      "    <td>Ancho</td>\n",
      "    <td>20.87\"</td>\n",
      "  </tr>\n",
      "  <tr>\n",
      "    <td>Profundidad</td>\n",
      "    <td>20.08\"</td>\n",
      "  </tr>\n",
      "  <tr>\n",
      "    <td>Altura</td>\n",
      "    <td>31.50\"</td>\n",
      "  </tr>\n",
      "  <tr>\n",
      "    <td>Altura del asiento</td>\n",
      "    <td>17.32\"</td>\n",
      "  </tr>\n",
      "  <tr>\n",
      "    <td>Profundidad del asiento</td>\n",
      "    <td>16.14\"</td>\n",
      "  </tr>\n",
      "</table>\n",
      "\n",
      "<p>Id del producto: SWC-100</p>\n"
     ]
    }
   ],
   "source": [
    "# El código es una plantilla para generar una descripción técnica de un producto para un sitio web de venta al por menor.\n",
    "# El código utiliza la biblioteca de AI, GPT-3, para generar una descripción basada en las especificaciones técnicas de un\n",
    "# producto proporcionadas en una variable llamada \"ficha_de_silla\". El código envía una solicitud a GPT-3 para tener\n",
    "# una descripción escrita y luego divide el texto en líneas de 100 caracteres cada una, para ser presentado al usuario.\n",
    "# La descripción generada tiene una tabla con las dimensiones del producto y el formato HTML es utilizado para que se\n",
    "# pueda utilizar en un sitio web.\n",
    "\n",
    "#* Añadiendo prompt para que cree una tabla html con la información\n",
    "prompt = f\"\"\"\n",
    "Su tarea consiste en ayudar a un equipo de marketing a crear una descipción para un sitio web /\n",
    "de venta al pormenor de un producto basado en una ficha técnica.\n",
    "\n",
    "La descripción esta destinada a los minoristas de muebles, por lo tanto debe ser de carácter técnico /\n",
    "y centrarse en los materiales que está fabricado el producto.\n",
    "\n",
    "Al final de la descripción, incluya el id del producto de la especificación técnica.\n",
    "\n",
    "Después de la descripción, cree una tabla con las dimensiones del producto.\n",
    "La tabla debe tener 2 columnas. \n",
    "La primera columna debe contener el nombre de la dimensión \n",
    "La segunda columna incluye solo las medidas en pulgadas.\n",
    "\n",
    "Asigne a la tabla el título \"Dimensiones del producto\".\n",
    "\n",
    "Da formato a todo usando html para que pueda ser usado en un sitio web.\n",
    "Ponga la descripción en un elemento <div>.\n",
    "\n",
    "\n",
    "Escriba una descripción del producto basada en la información proporcionada  en las especificaciones dadas delimitadas /\n",
    "con tres comillas ``` {ficha_de_silla} ```\n",
    "\n",
    "\"\"\"\n",
    "\n",
    "response = get_completion(prompt, model)\n",
    "texto_largo = textwrap.wrap(response, width=100)\n",
    "\n",
    "print(response)"
   ]
  },
  {
   "attachments": {},
   "cell_type": "markdown",
   "metadata": {},
   "source": [
    "## Carga librerias python para ver HTML"
   ]
  },
  {
   "cell_type": "code",
   "execution_count": 12,
   "metadata": {},
   "outputs": [
    {
     "data": {
      "text/html": [
       "<div>\n",
       "<p>La silla de oficina SWC-100 es parte de una hermosa familia de muebles de oficina inspirados en la época de mediados de siglo. Esta silla está disponible en varias opciones de colores y acabados base, lo que la hace perfecta para cualquier estilo de decoración. Puede elegir entre tapizado frontal y trasero de plástico (SWC-100) o tapizado completo (SWC-110) en 10 opciones de tela y 6 de piel. Las opciones del acabado base son: acero inoxidable, negro mate, blanco brillante o cromado. La silla está disponible con o sin reposabrazos y es adecuada para el uso doméstico o profesional, así como para el uso contractual.</p>\n",
       "\n",
       "<p>La construcción de la silla es de alta calidad, con una base de aluminio recubierto de plástico de 5 ruedas y un ajuste neumático de la silla para subir/bajar fácilmente. Las dimensiones de la silla son las siguientes: ancho 53 cm | 20.87\", profundidad 51 cm | 20.08\", altura 80 cm | 31.50\", altura del asiento 44 cm | 17.32\" y profundidad del asiento 41 cm | 16.14\".</p>\n",
       "\n",
       "<p>Además, la silla SWC-100 tiene varias opciones adicionales, como ruedas para piso blando o duro, dos densidades de espuma del asiento: densidad media (1.8 lb/ft3) o alta (2.8 lb/ftl3) y reposabrazos sin brazos o con 8 posiciones.</p>\n",
       "\n",
       "<p>La carcasa base de la silla está hecha de aluminio fundido con revestimiento de nylon modificado PA6/PA66 con un espesor de carcasa de 10 mm. El asiento está hecho de espuma HD36. La silla SWC-100 es de origen italiano.</p>\n",
       "</div>\n",
       "\n",
       "<table>\n",
       "  <caption>Dimensiones del producto</caption>\n",
       "  <tr>\n",
       "    <th>Dimensión</th>\n",
       "    <th>Medida en pulgadas</th>\n",
       "  </tr>\n",
       "  <tr>\n",
       "    <td>Ancho</td>\n",
       "    <td>20.87\"</td>\n",
       "  </tr>\n",
       "  <tr>\n",
       "    <td>Profundidad</td>\n",
       "    <td>20.08\"</td>\n",
       "  </tr>\n",
       "  <tr>\n",
       "    <td>Altura</td>\n",
       "    <td>31.50\"</td>\n",
       "  </tr>\n",
       "  <tr>\n",
       "    <td>Altura del asiento</td>\n",
       "    <td>17.32\"</td>\n",
       "  </tr>\n",
       "  <tr>\n",
       "    <td>Profundidad del asiento</td>\n",
       "    <td>16.14\"</td>\n",
       "  </tr>\n",
       "</table>\n",
       "\n",
       "<p>Id del producto: SWC-100</p>"
      ],
      "text/plain": [
       "<IPython.core.display.HTML object>"
      ]
     },
     "metadata": {},
     "output_type": "display_data"
    },
    {
     "ename": "",
     "evalue": "",
     "output_type": "error",
     "traceback": [
      "\u001b[1;31mEl Kernel se bloqueó al ejecutar código en la celda actual o en una celda anterior. Revise el código de las celdas para identificar una posible causa del error. Haga clic <a href='https://aka.ms/vscodeJupyterKernelCrash'>aquí</a> para obtener más información. Vea el [registro] de Jupyter (command:jupyter.viewOutput) para obtener más detalles."
     ]
    }
   ],
   "source": [
    "# Este código importa las bibliotecas HTML y display del paquete IPython.display y muestra en la salida HTML la variable\n",
    "# \"response\" que contiene algún código HTML. En resumen, se utiliza para visualizar contenido HTML en un notebook de Jupyter\n",
    "# o en un entorno similar.\n",
    "\n",
    "from IPython.display import HTML, display\n",
    "display(HTML(response))"
   ]
  },
  {
   "attachments": {},
   "cell_type": "markdown",
   "metadata": {},
   "source": [
    "#### Pequeño resumen del proceso iterativo\n",
    "- Pruebe con algo.\n",
    "- Analice donde el resultado no es como se esperaba.\n",
    "- Clarifica las instrucciones y darle mas tiempo para pensar.\n",
    "- Refine prompts con un lote de ejemplos."
   ]
  }
 ],
 "metadata": {
  "kernelspec": {
   "display_name": "Python 3",
   "language": "python",
   "name": "python3"
  },
  "language_info": {
   "codemirror_mode": {
    "name": "ipython",
    "version": 3
   },
   "file_extension": ".py",
   "mimetype": "text/x-python",
   "name": "python",
   "nbconvert_exporter": "python",
   "pygments_lexer": "ipython3",
   "version": "3.11.1"
  },
  "orig_nbformat": 4
 },
 "nbformat": 4,
 "nbformat_minor": 2
}
